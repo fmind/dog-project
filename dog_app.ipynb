{
 "cells": [
  {
   "cell_type": "markdown",
   "metadata": {},
   "source": [
    "# Artificial Intelligence Nanodegree\n",
    "\n",
    "## Convolutional Neural Networks\n",
    "\n",
    "## Project: Write an Algorithm for a Dog Identification App \n",
    "\n",
    "---\n",
    "\n",
    "In this notebook, some template code has already been provided for you, and you will need to implement additional functionality to successfully complete this project. You will not need to modify the included code beyond what is requested. Sections that begin with **'(IMPLEMENTATION)'** in the header indicate that the following block of code will require additional functionality which you must provide. Instructions will be provided for each section, and the specifics of the implementation are marked in the code block with a 'TODO' statement. Please be sure to read the instructions carefully! \n",
    "\n",
    "> **Note**: Once you have completed all of the code implementations, you need to finalize your work by exporting the iPython Notebook as an HTML document. Before exporting the notebook to html, all of the code cells need to have been run so that reviewers can see the final implementation and output. You can then export the notebook by using the menu above and navigating to  \\n\",\n",
    "    \"**File -> Download as -> HTML (.html)**. Include the finished document along with this notebook as your submission.\n",
    "\n",
    "In addition to implementing code, there will be questions that you must answer which relate to the project and your implementation. Each section where you will answer a question is preceded by a **'Question X'** header. Carefully read each question and provide thorough answers in the following text boxes that begin with **'Answer:'**. Your project submission will be evaluated based on your answers to each of the questions and the implementation you provide.\n",
    "\n",
    ">**Note:** Code and Markdown cells can be executed using the **Shift + Enter** keyboard shortcut.  Markdown cells can be edited by double-clicking the cell to enter edit mode.\n",
    "\n",
    "The rubric contains _optional_ \"Stand Out Suggestions\" for enhancing the project beyond the minimum requirements. If you decide to pursue the \"Stand Out Suggestions\", you should include the code in this IPython notebook.\n",
    "\n",
    "\n",
    "\n",
    "---\n",
    "### Why We're Here \n",
    "\n",
    "In this notebook, you will make the first steps towards developing an algorithm that could be used as part of a mobile or web app.  At the end of this project, your code will accept any user-supplied image as input.  If a dog is detected in the image, it will provide an estimate of the dog's breed.  If a human is detected, it will provide an estimate of the dog breed that is most resembling.  The image below displays potential sample output of your finished project (... but we expect that each student's algorithm will behave differently!). \n",
    "\n",
    "![Sample Dog Output](images/sample_dog_output.png)\n",
    "\n",
    "In this real-world setting, you will need to piece together a series of models to perform different tasks; for instance, the algorithm that detects humans in an image will be different from the CNN that infers dog breed.  There are many points of possible failure, and no perfect algorithm exists.  Your imperfect solution will nonetheless create a fun user experience!\n",
    "\n",
    "### The Road Ahead\n",
    "\n",
    "We break the notebook into separate steps.  Feel free to use the links below to navigate the notebook.\n",
    "\n",
    "* [Step 0](#step0): Import Datasets\n",
    "* [Step 1](#step1): Detect Humans\n",
    "* [Step 2](#step2): Detect Dogs\n",
    "* [Step 3](#step3): Create a CNN to Classify Dog Breeds (from Scratch)\n",
    "* [Step 4](#step4): Use a CNN to Classify Dog Breeds (using Transfer Learning)\n",
    "* [Step 5](#step5): Create a CNN to Classify Dog Breeds (using Transfer Learning)\n",
    "* [Step 6](#step6): Write your Algorithm\n",
    "* [Step 7](#step7): Test Your Algorithm\n",
    "\n",
    "---\n",
    "<a id='step0'></a>\n",
    "## Step 0: Import Datasets\n",
    "\n",
    "### Import Dog Dataset\n",
    "\n",
    "In the code cell below, we import a dataset of dog images.  We populate a few variables through the use of the `load_files` function from the scikit-learn library:\n",
    "- `train_files`, `valid_files`, `test_files` - numpy arrays containing file paths to images\n",
    "- `train_targets`, `valid_targets`, `test_targets` - numpy arrays containing onehot-encoded classification labels \n",
    "- `dog_names` - list of string-valued dog breed names for translating labels"
   ]
  },
  {
   "cell_type": "code",
   "execution_count": 1,
   "metadata": {},
   "outputs": [
    {
     "name": "stderr",
     "output_type": "stream",
     "text": [
      "Using TensorFlow backend.\n"
     ]
    },
    {
     "name": "stdout",
     "output_type": "stream",
     "text": [
      "There are 133 total dog categories.\n",
      "There are 8351 total dog images.\n",
      "\n",
      "There are 6680 training dog images.\n",
      "There are 835 validation dog images.\n",
      "There are 836 test dog images.\n"
     ]
    }
   ],
   "source": [
    "from sklearn.datasets import load_files       \n",
    "from keras.utils import np_utils\n",
    "import numpy as np\n",
    "from glob import glob\n",
    "\n",
    "# define function to load train, test, and validation datasets\n",
    "def load_dataset(path):\n",
    "    data = load_files(path)\n",
    "    dog_files = np.array(data['filenames'])\n",
    "    dog_targets = np_utils.to_categorical(np.array(data['target']), 133)\n",
    "    return dog_files, dog_targets\n",
    "\n",
    "# load train, test, and validation datasets\n",
    "train_files, train_targets = load_dataset('dogImages/train')\n",
    "valid_files, valid_targets = load_dataset('dogImages/valid')\n",
    "test_files, test_targets = load_dataset('dogImages/test')\n",
    "\n",
    "# load list of dog names\n",
    "dog_names = [item[20:-1] for item in sorted(glob(\"dogImages/train/*/\"))]\n",
    "\n",
    "# print statistics about the dataset\n",
    "print('There are %d total dog categories.' % len(dog_names))\n",
    "print('There are %s total dog images.\\n' % len(np.hstack([train_files, valid_files, test_files])))\n",
    "print('There are %d training dog images.' % len(train_files))\n",
    "print('There are %d validation dog images.' % len(valid_files))\n",
    "print('There are %d test dog images.'% len(test_files))"
   ]
  },
  {
   "cell_type": "markdown",
   "metadata": {},
   "source": [
    "### Import Human Dataset\n",
    "\n",
    "In the code cell below, we import a dataset of human images, where the file paths are stored in the numpy array `human_files`."
   ]
  },
  {
   "cell_type": "code",
   "execution_count": 2,
   "metadata": {},
   "outputs": [
    {
     "name": "stdout",
     "output_type": "stream",
     "text": [
      "There are 13233 total human images.\n"
     ]
    }
   ],
   "source": [
    "import random\n",
    "random.seed(8675309)\n",
    "\n",
    "# load filenames in shuffled human dataset\n",
    "human_files = np.array(glob(\"lfw/*/*\"))\n",
    "random.shuffle(human_files)\n",
    "\n",
    "# print statistics about the dataset\n",
    "print('There are %d total human images.' % len(human_files))"
   ]
  },
  {
   "cell_type": "markdown",
   "metadata": {},
   "source": [
    "---\n",
    "<a id='step1'></a>\n",
    "## Step 1: Detect Humans\n",
    "\n",
    "We use OpenCV's implementation of [Haar feature-based cascade classifiers](http://docs.opencv.org/trunk/d7/d8b/tutorial_py_face_detection.html) to detect human faces in images.  OpenCV provides many pre-trained face detectors, stored as XML files on [github](https://github.com/opencv/opencv/tree/master/data/haarcascades).  We have downloaded one of these detectors and stored it in the `haarcascades` directory.\n",
    "\n",
    "In the next code cell, we demonstrate how to use this detector to find human faces in a sample image."
   ]
  },
  {
   "cell_type": "code",
   "execution_count": 3,
   "metadata": {},
   "outputs": [
    {
     "name": "stdout",
     "output_type": "stream",
     "text": [
      "Number of faces detected: 1\n"
     ]
    },
    {
     "data": {
      "image/png": "[encoded data removed]",
      "text/plain": [
       "<matplotlib.figure.Figure at 0x7f7b3c882a58>"
      ]
     },
     "metadata": {},
     "output_type": "display_data"
    }
   ],
   "source": [
    "import cv2                \n",
    "import matplotlib.pyplot as plt                        \n",
    "%matplotlib inline                               \n",
    "\n",
    "# extract pre-trained face detector\n",
    "face_cascade = cv2.CascadeClassifier('haarcascades/haarcascade_frontalface_alt.xml')\n",
    "\n",
    "# load color (BGR) image\n",
    "img = cv2.imread(human_files[3])\n",
    "# convert BGR image to grayscale\n",
    "gray = cv2.cvtColor(img, cv2.COLOR_BGR2GRAY)\n",
    "\n",
    "# find faces in image\n",
    "faces = face_cascade.detectMultiScale(gray)\n",
    "\n",
    "# print number of faces detected in the image\n",
    "print('Number of faces detected:', len(faces))\n",
    "\n",
    "# get bounding box for each detected face\n",
    "for (x,y,w,h) in faces:\n",
    "    # add bounding box to color image\n",
    "    cv2.rectangle(img,(x,y),(x+w,y+h),(255,0,0),2)\n",
    "    \n",
    "# convert BGR image to RGB for plotting\n",
    "cv_rgb = cv2.cvtColor(img, cv2.COLOR_BGR2RGB)\n",
    "\n",
    "# display the image, along with bounding box\n",
    "plt.imshow(cv_rgb)\n",
    "plt.show()"
   ]
  },
  {
   "cell_type": "markdown",
   "metadata": {},
   "source": [
    "Before using any of the face detectors, it is standard procedure to convert the images to grayscale.  The `detectMultiScale` function executes the classifier stored in `face_cascade` and takes the grayscale image as a parameter.  \n",
    "\n",
    "In the above code, `faces` is a numpy array of detected faces, where each row corresponds to a detected face.  Each detected face is a 1D array with four entries that specifies the bounding box of the detected face.  The first two entries in the array (extracted in the above code as `x` and `y`) specify the horizontal and vertical positions of the top left corner of the bounding box.  The last two entries in the array (extracted here as `w` and `h`) specify the width and height of the box.\n",
    "\n",
    "### Write a Human Face Detector\n",
    "\n",
    "We can use this procedure to write a function that returns `True` if a human face is detected in an image and `False` otherwise.  This function, aptly named `face_detector`, takes a string-valued file path to an image as input and appears in the code block below."
   ]
  },
  {
   "cell_type": "code",
   "execution_count": 4,
   "metadata": {
    "collapsed": true
   },
   "outputs": [],
   "source": [
    "# returns \"True\" if face is detected in image stored at img_path\n",
    "def face_detector(img_path):\n",
    "    img = cv2.imread(img_path)\n",
    "    gray = cv2.cvtColor(img, cv2.COLOR_BGR2GRAY)\n",
    "    faces = face_cascade.detectMultiScale(gray)\n",
    "    return len(faces) > 0"
   ]
  },
  {
   "cell_type": "markdown",
   "metadata": {},
   "source": [
    "### (IMPLEMENTATION) Assess the Human Face Detector\n",
    "\n",
    "__Question 1:__ Use the code cell below to test the performance of the `face_detector` function.  \n",
    "- What percentage of the first 100 images in `human_files` have a detected human face?  \n",
    "- What percentage of the first 100 images in `dog_files` have a detected human face? \n",
    "\n",
    "Ideally, we would like 100% of human images with a detected face and 0% of dog images with a detected face.  You will see that our algorithm falls short of this goal, but still gives acceptable performance.  We extract the file paths for the first 100 images from each of the datasets and store them in the numpy arrays `human_files_short` and `dog_files_short`.\n",
    "\n",
    "__Answer:__ 99% of images in human_files have a detected human face. 11% of images in dog_files have a detected human face."
   ]
  },
  {
   "cell_type": "code",
   "execution_count": 5,
   "metadata": {},
   "outputs": [
    {
     "name": "stdout",
     "output_type": "stream",
     "text": [
      "Detection by face_detector:\n",
      "Dog detected (false positives): 11 %\n",
      "Human detected (true positives): 99 %\n"
     ]
    }
   ],
   "source": [
    "human_files_short = human_files[:100]\n",
    "dog_files_short = train_files[:100]\n",
    "# Do NOT modify the code above this line.\n",
    "\n",
    "dog_detected = list(filter(face_detector, dog_files_short))\n",
    "human_detected = list(filter(face_detector, human_files_short))\n",
    "\n",
    "print(\"Detection by face_detector:\")\n",
    "print(\"Dog detected (false positives): {} %\".format(len(dog_detected)))\n",
    "print(\"Human detected (true positives): {} %\".format(len(human_detected)))"
   ]
  },
  {
   "cell_type": "markdown",
   "metadata": {},
   "source": [
    "__Question 2:__ This algorithmic choice necessitates that we communicate to the user that we accept human images only when they provide a clear view of a face (otherwise, we risk having unneccessarily frustrated users!). In your opinion, is this a reasonable expectation to pose on the user? If not, can you think of a way to detect humans in images that does not necessitate an image with a clearly presented face?\n",
    "\n",
    "__Answer:__ This limitation is acceptable for the first version of the product. Users might be more tempted to find ressemblance with their faces than other part of their bodies. Moreover, the accuracy of the OpenCV implementation is good enough for the first version. In future releases, this feature could be improved by the implementation of a better classifier, based on deep learning and neural networks.\n",
    "\n",
    "We suggest the face detector from OpenCV as a potential way to detect human images in your algorithm, but you are free to explore other approaches, especially approaches that make use of deep learning :).  Please use the code cell below to design and test your own face detection algorithm.  If you decide to pursue this _optional_ task, report performance on each of the datasets."
   ]
  },
  {
   "cell_type": "code",
   "execution_count": 6,
   "metadata": {},
   "outputs": [],
   "source": [
    "# "
   ]
  },
  {
   "cell_type": "markdown",
   "metadata": {},
   "source": [
    "---\n",
    "<a id='step2'></a>\n",
    "## Step 2: Detect Dogs\n",
    "\n",
    "In this section, we use a pre-trained [ResNet-50](http://ethereon.github.io/netscope/#/gist/db945b393d40bfa26006) model to detect dogs in images.  Our first line of code downloads the ResNet-50 model, along with weights that have been trained on [ImageNet](http://www.image-net.org/), a very large, very popular dataset used for image classification and other vision tasks.  ImageNet contains over 10 million URLs, each linking to an image containing an object from one of [1000 categories](https://gist.github.com/yrevar/942d3a0ac09ec9e5eb3a).  Given an image, this pre-trained ResNet-50 model returns a prediction (derived from the available categories in ImageNet) for the object that is contained in the image."
   ]
  },
  {
   "cell_type": "code",
   "execution_count": 7,
   "metadata": {},
   "outputs": [],
   "source": [
    "from keras.applications.resnet50 import ResNet50\n",
    "\n",
    "# define ResNet50 model\n",
    "ResNet50_model = ResNet50(weights='imagenet')"
   ]
  },
  {
   "cell_type": "markdown",
   "metadata": {},
   "source": [
    "### Pre-process the Data\n",
    "\n",
    "When using TensorFlow as backend, Keras CNNs require a 4D array (which we'll also refer to as a 4D tensor) as input, with shape\n",
    "\n",
    "$$\n",
    "(\\text{nb_samples}, \\text{rows}, \\text{columns}, \\text{channels}),\n",
    "$$\n",
    "\n",
    "where `nb_samples` corresponds to the total number of images (or samples), and `rows`, `columns`, and `channels` correspond to the number of rows, columns, and channels for each image, respectively.  \n",
    "\n",
    "The `path_to_tensor` function below takes a string-valued file path to a color image as input and returns a 4D tensor suitable for supplying to a Keras CNN.  The function first loads the image and resizes it to a square image that is $224 \\times 224$ pixels.  Next, the image is converted to an array, which is then resized to a 4D tensor.  In this case, since we are working with color images, each image has three channels.  Likewise, since we are processing a single image (or sample), the returned tensor will always have shape\n",
    "\n",
    "$$\n",
    "(1, 224, 224, 3).\n",
    "$$\n",
    "\n",
    "The `paths_to_tensor` function takes a numpy array of string-valued image paths as input and returns a 4D tensor with shape \n",
    "\n",
    "$$\n",
    "(\\text{nb_samples}, 224, 224, 3).\n",
    "$$\n",
    "\n",
    "Here, `nb_samples` is the number of samples, or number of images, in the supplied array of image paths.  It is best to think of `nb_samples` as the number of 3D tensors (where each 3D tensor corresponds to a different image) in your dataset!"
   ]
  },
  {
   "cell_type": "code",
   "execution_count": 8,
   "metadata": {
    "collapsed": true
   },
   "outputs": [],
   "source": [
    "from keras.preprocessing import image                  \n",
    "from tqdm import tqdm\n",
    "\n",
    "def path_to_tensor(img_path):\n",
    "    # loads RGB image as PIL.Image.Image type\n",
    "    img = image.load_img(img_path, target_size=(224, 224))\n",
    "    # convert PIL.Image.Image type to 3D tensor with shape (224, 224, 3)\n",
    "    x = image.img_to_array(img)\n",
    "    # convert 3D tensor to 4D tensor with shape (1, 224, 224, 3) and return 4D tensor\n",
    "    return np.expand_dims(x, axis=0)\n",
    "\n",
    "def paths_to_tensor(img_paths):\n",
    "    list_of_tensors = [path_to_tensor(img_path) for img_path in tqdm(img_paths)]\n",
    "    return np.vstack(list_of_tensors)"
   ]
  },
  {
   "cell_type": "markdown",
   "metadata": {},
   "source": [
    "### Making Predictions with ResNet-50\n",
    "\n",
    "Getting the 4D tensor ready for ResNet-50, and for any other pre-trained model in Keras, requires some additional processing.  First, the RGB image is converted to BGR by reordering the channels.  All pre-trained models have the additional normalization step that the mean pixel (expressed in RGB as $[103.939, 116.779, 123.68]$ and calculated from all pixels in all images in ImageNet) must be subtracted from every pixel in each image.  This is implemented in the imported function `preprocess_input`.  If you're curious, you can check the code for `preprocess_input` [here](https://github.com/fchollet/keras/blob/master/keras/applications/imagenet_utils.py).\n",
    "\n",
    "Now that we have a way to format our image for supplying to ResNet-50, we are now ready to use the model to extract the predictions.  This is accomplished with the `predict` method, which returns an array whose $i$-th entry is the model's predicted probability that the image belongs to the $i$-th ImageNet category.  This is implemented in the `ResNet50_predict_labels` function below.\n",
    "\n",
    "By taking the argmax of the predicted probability vector, we obtain an integer corresponding to the model's predicted object class, which we can identify with an object category through the use of this [dictionary](https://gist.github.com/yrevar/942d3a0ac09ec9e5eb3a). "
   ]
  },
  {
   "cell_type": "code",
   "execution_count": 9,
   "metadata": {
    "collapsed": true
   },
   "outputs": [],
   "source": [
    "from keras.applications.resnet50 import preprocess_input, decode_predictions\n",
    "\n",
    "def ResNet50_predict_labels(img_path):\n",
    "    # returns prediction vector for image located at img_path\n",
    "    img = preprocess_input(path_to_tensor(img_path))\n",
    "    return np.argmax(ResNet50_model.predict(img))"
   ]
  },
  {
   "cell_type": "markdown",
   "metadata": {},
   "source": [
    "### Write a Dog Detector\n",
    "\n",
    "While looking at the [dictionary](https://gist.github.com/yrevar/942d3a0ac09ec9e5eb3a), you will notice that the categories corresponding to dogs appear in an uninterrupted sequence and correspond to dictionary keys 151-268, inclusive, to include all categories from `'Chihuahua'` to `'Mexican hairless'`.  Thus, in order to check to see if an image is predicted to contain a dog by the pre-trained ResNet-50 model, we need only check if the `ResNet50_predict_labels` function above returns a value between 151 and 268 (inclusive).\n",
    "\n",
    "We use these ideas to complete the `dog_detector` function below, which returns `True` if a dog is detected in an image (and `False` if not)."
   ]
  },
  {
   "cell_type": "code",
   "execution_count": 10,
   "metadata": {
    "collapsed": true
   },
   "outputs": [],
   "source": [
    "### returns \"True\" if a dog is detected in the image stored at img_path\n",
    "def dog_detector(img_path):\n",
    "    prediction = ResNet50_predict_labels(img_path)\n",
    "    return ((prediction <= 268) & (prediction >= 151)) "
   ]
  },
  {
   "cell_type": "markdown",
   "metadata": {},
   "source": [
    "### (IMPLEMENTATION) Assess the Dog Detector\n",
    "\n",
    "__Question 3:__ Use the code cell below to test the performance of your `dog_detector` function.  \n",
    "- What percentage of the images in `human_files_short` have a detected dog?  \n",
    "- What percentage of the images in `dog_files_short` have a detected dog?\n",
    "\n",
    "__Answer:__ 0% of images in human_files_short have a detected dog. 100% of images in dog_files_short have a detected dog."
   ]
  },
  {
   "cell_type": "code",
   "execution_count": 11,
   "metadata": {},
   "outputs": [
    {
     "name": "stdout",
     "output_type": "stream",
     "text": [
      "Detection by dog_detector:\n",
      "Dog detected (true positives): 100 %\n",
      "Human detected (false positives): 0 %\n"
     ]
    }
   ],
   "source": [
    "dog_detected = list(filter(dog_detector, dog_files_short))\n",
    "human_detected = list(filter(dog_detector, human_files_short))\n",
    "\n",
    "print(\"Detection by dog_detector:\")\n",
    "print(\"Dog detected (true positives): {} %\".format(len(dog_detected)))\n",
    "print(\"Human detected (false positives): {} %\".format(len(human_detected)))"
   ]
  },
  {
   "cell_type": "markdown",
   "metadata": {},
   "source": [
    "---\n",
    "<a id='step3'></a>\n",
    "## Step 3: Create a CNN to Classify Dog Breeds (from Scratch)\n",
    "\n",
    "Now that we have functions for detecting humans and dogs in images, we need a way to predict breed from images.  In this step, you will create a CNN that classifies dog breeds.  You must create your CNN _from scratch_ (so, you can't use transfer learning _yet_!), and you must attain a test accuracy of at least 1%.  In Step 5 of this notebook, you will have the opportunity to use transfer learning to create a CNN that attains greatly improved accuracy.\n",
    "\n",
    "Be careful with adding too many trainable layers!  More parameters means longer training, which means you are more likely to need a GPU to accelerate the training process.  Thankfully, Keras provides a handy estimate of the time that each epoch is likely to take; you can extrapolate this estimate to figure out how long it will take for your algorithm to train. \n",
    "\n",
    "We mention that the task of assigning breed to dogs from images is considered exceptionally challenging.  To see why, consider that *even a human* would have great difficulty in distinguishing between a Brittany and a Welsh Springer Spaniel.  \n",
    "\n",
    "Brittany | Welsh Springer Spaniel\n",
    "- | - \n",
    "<img src=\"images/Brittany_02625.jpg\" width=\"100\"> | <img src=\"images/Welsh_springer_spaniel_08203.jpg\" width=\"200\">\n",
    "\n",
    "It is not difficult to find other dog breed pairs with minimal inter-class variation (for instance, Curly-Coated Retrievers and American Water Spaniels).  \n",
    "\n",
    "Curly-Coated Retriever | American Water Spaniel\n",
    "- | -\n",
    "<img src=\"images/Curly-coated_retriever_03896.jpg\" width=\"200\"> | <img src=\"images/American_water_spaniel_00648.jpg\" width=\"200\">\n",
    "\n",
    "\n",
    "Likewise, recall that labradors come in yellow, chocolate, and black.  Your vision-based algorithm will have to conquer this high intra-class variation to determine how to classify all of these different shades as the same breed.  \n",
    "\n",
    "Yellow Labrador | Chocolate Labrador | Black Labrador\n",
    "- | -\n",
    "<img src=\"images/Labrador_retriever_06457.jpg\" width=\"150\"> | <img src=\"images/Labrador_retriever_06455.jpg\" width=\"240\"> | <img src=\"images/Labrador_retriever_06449.jpg\" width=\"220\">\n",
    "\n",
    "We also mention that random chance presents an exceptionally low bar: setting aside the fact that the classes are slightly imabalanced, a random guess will provide a correct answer roughly 1 in 133 times, which corresponds to an accuracy of less than 1%.  \n",
    "\n",
    "Remember that the practice is far ahead of the theory in deep learning.  Experiment with many different architectures, and trust your intuition.  And, of course, have fun! \n",
    "\n",
    "### Pre-process the Data\n",
    "\n",
    "We rescale the images by dividing every pixel in every image by 255."
   ]
  },
  {
   "cell_type": "code",
   "execution_count": 12,
   "metadata": {},
   "outputs": [
    {
     "name": "stderr",
     "output_type": "stream",
     "text": [
      "100%|██████████| 6680/6680 [00:46<00:00, 144.81it/s]\n",
      "100%|██████████| 835/835 [00:05<00:00, 149.18it/s]\n",
      "100%|██████████| 836/836 [00:05<00:00, 151.64it/s]\n"
     ]
    }
   ],
   "source": [
    "from PIL import ImageFile                            \n",
    "ImageFile.LOAD_TRUNCATED_IMAGES = True                 \n",
    "\n",
    "# pre-process the data for Keras\n",
    "train_tensors = paths_to_tensor(train_files).astype('float32')/255\n",
    "valid_tensors = paths_to_tensor(valid_files).astype('float32')/255\n",
    "test_tensors = paths_to_tensor(test_files).astype('float32')/255"
   ]
  },
  {
   "cell_type": "markdown",
   "metadata": {},
   "source": [
    "### (IMPLEMENTATION) Model Architecture\n",
    "\n",
    "Create a CNN to classify dog breed.  At the end of your code cell block, summarize the layers of your model by executing the line:\n",
    "    \n",
    "        model.summary()\n",
    "\n",
    "We have imported some Python modules to get you started, but feel free to import as many modules as you need.  If you end up getting stuck, here's a hint that specifies a model that trains relatively fast on CPU and attains >1% test accuracy in 5 epochs:\n",
    "\n",
    "![Sample CNN](images/sample_cnn.png)\n",
    "           \n",
    "__Question 4:__ Outline the steps you took to get to your final CNN architecture and your reasoning at each step.  If you chose to use the hinted architecture above, describe why you think that CNN architecture should work well for the image classification task.\n",
    "\n",
    "__Answer:__ The base architecture is inspired by the VGGNet with 3x3 convolutions and 2x2 pooling layers.\n",
    "\n",
    "Since the problem of classifying dog breeds is considered challenging, I decided to use 2 Dense layers and one Dropout layer at the end of the architecture to improve the generalization of the network. The accuracy of this network was 4.3%.\n",
    "\n",
    "As an alternative, I removed the Dense layer and Dropout layer and added an additional Conv2D and MaxPooling layer. My intuition was to follow the Microsoft improvement of adding more Conv layers to the initial VGG network. The accuracy of this network was 16.3%\n",
    "\n",
    "Finally, I followed the hinted architecture, changing only the kernel size from 2 of 3. The accuracy of this network was 9.6%.\n",
    "\n",
    "In the end, I decided to use the following network with the additional Conv layer since it achieved the best performances."
   ]
  },
  {
   "cell_type": "code",
   "execution_count": 13,
   "metadata": {},
   "outputs": [
    {
     "name": "stdout",
     "output_type": "stream",
     "text": [
      "_________________________________________________________________\n",
      "Layer (type)                 Output Shape              Param #   \n",
      "=================================================================\n",
      "conv2d_1 (Conv2D)            (None, 224, 224, 16)      448       \n",
      "_________________________________________________________________\n",
      "max_pooling2d_2 (MaxPooling2 (None, 112, 112, 16)      0         \n",
      "_________________________________________________________________\n",
      "conv2d_2 (Conv2D)            (None, 112, 112, 32)      4640      \n",
      "_________________________________________________________________\n",
      "max_pooling2d_3 (MaxPooling2 (None, 56, 56, 32)        0         \n",
      "_________________________________________________________________\n",
      "conv2d_3 (Conv2D)            (None, 56, 56, 48)        13872     \n",
      "_________________________________________________________________\n",
      "max_pooling2d_4 (MaxPooling2 (None, 28, 28, 48)        0         \n",
      "_________________________________________________________________\n",
      "conv2d_4 (Conv2D)            (None, 28, 28, 64)        27712     \n",
      "_________________________________________________________________\n",
      "max_pooling2d_5 (MaxPooling2 (None, 14, 14, 64)        0         \n",
      "_________________________________________________________________\n",
      "global_average_pooling2d_1 ( (None, 64)                0         \n",
      "_________________________________________________________________\n",
      "dense_1 (Dense)              (None, 133)               8645      \n",
      "=================================================================\n",
      "Total params: 55,317.0\n",
      "Trainable params: 55,317.0\n",
      "Non-trainable params: 0.0\n",
      "_________________________________________________________________\n"
     ]
    }
   ],
   "source": [
    "from keras.layers import Conv2D, MaxPooling2D, GlobalAveragePooling2D\n",
    "from keras.layers import Dropout, Flatten, Dense\n",
    "from keras.models import Sequential\n",
    "\n",
    "\n",
    "PS = 2\n",
    "KS = 3\n",
    "FS = 16\n",
    "AV = 'relu'\n",
    "PD = 'same'\n",
    "IN = (224, 224, 3)\n",
    "\n",
    "model = Sequential()\n",
    "model.add(Conv2D(filters=FS * 1, kernel_size=KS, padding=PD, activation=AV, input_shape=IN))\n",
    "model.add(MaxPooling2D(pool_size=PS))\n",
    "model.add(Conv2D(filters=FS * 2, kernel_size=KS, padding=PD, activation=AV))\n",
    "model.add(MaxPooling2D(pool_size=PS))\n",
    "model.add(Conv2D(filters=FS * 3, kernel_size=KS, padding=PD, activation=AV))\n",
    "model.add(MaxPooling2D(pool_size=PS))\n",
    "# the two following layers were added to the hinted architecture \n",
    "model.add(Conv2D(filters=FS * 4, kernel_size=KS, padding=PD, activation=AV))\n",
    "model.add(MaxPooling2D(pool_size=PS))\n",
    "model.add(GlobalAveragePooling2D())\n",
    "# model.add(Dense(150), activation='softmax')\n",
    "# model.add(Dropout(0.2))\n",
    "model.add(Dense(133, activation='softmax'))\n",
    "\n",
    "model.summary()"
   ]
  },
  {
   "cell_type": "markdown",
   "metadata": {},
   "source": [
    "### Compile the Model"
   ]
  },
  {
   "cell_type": "code",
   "execution_count": 14,
   "metadata": {},
   "outputs": [],
   "source": [
    "model.compile(optimizer='rmsprop', loss='categorical_crossentropy', metrics=['accuracy'])"
   ]
  },
  {
   "cell_type": "markdown",
   "metadata": {},
   "source": [
    "### (IMPLEMENTATION) Train the Model\n",
    "\n",
    "Train your model in the code cell below.  Use model checkpointing to save the model that attains the best validation loss.\n",
    "\n",
    "You are welcome to [augment the training data](https://blog.keras.io/building-powerful-image-classification-models-using-very-little-data.html), but this is not a requirement. "
   ]
  },
  {
   "cell_type": "code",
   "execution_count": null,
   "metadata": {
    "scrolled": false
   },
   "outputs": [],
   "source": [
    "from keras.callbacks import ModelCheckpoint  \n",
    "\n",
    "### TODO: specify the number of epochs that you would like to use to train the model.\n",
    "\n",
    "epochs = 42\n",
    "\n",
    "### Do NOT modify the code below this line.\n",
    "\n",
    "checkpointer = ModelCheckpoint(filepath='saved_models/weights.best.from_scratch.hdf5', \n",
    "                               verbose=1, save_best_only=True)\n",
    "\n",
    "model.fit(train_tensors, train_targets, \n",
    "          validation_data=(valid_tensors, valid_targets),\n",
    "          epochs=epochs, batch_size=20, callbacks=[checkpointer], verbose=1)"
   ]
  },
  {
   "cell_type": "markdown",
   "metadata": {},
   "source": [
    "### Load the Model with the Best Validation Loss"
   ]
  },
  {
   "cell_type": "code",
   "execution_count": null,
   "metadata": {
    "collapsed": true
   },
   "outputs": [],
   "source": [
    "model.load_weights('saved_models/weights.best.from_scratch.hdf5')"
   ]
  },
  {
   "cell_type": "markdown",
   "metadata": {},
   "source": [
    "### Test the Model\n",
    "\n",
    "Try out your model on the test dataset of dog images.  Ensure that your test accuracy is greater than 1%."
   ]
  },
  {
   "cell_type": "code",
   "execution_count": null,
   "metadata": {},
   "outputs": [],
   "source": [
    "# get index of predicted dog breed for each image in test set\n",
    "dog_breed_predictions = [np.argmax(model.predict(np.expand_dims(tensor, axis=0))) for tensor in test_tensors]\n",
    "\n",
    "# report test accuracy\n",
    "test_accuracy = 100*np.sum(np.array(dog_breed_predictions)==np.argmax(test_targets, axis=1))/len(dog_breed_predictions)\n",
    "print('Test accuracy: %.4f%%' % test_accuracy)"
   ]
  },
  {
   "cell_type": "markdown",
   "metadata": {},
   "source": [
    "---\n",
    "<a id='step4'></a>\n",
    "## Step 4: Use a CNN to Classify Dog Breeds\n",
    "\n",
    "To reduce training time without sacrificing accuracy, we show you how to train a CNN using transfer learning.  In the following step, you will get a chance to use transfer learning to train your own CNN.\n",
    "\n",
    "### Obtain Bottleneck Features"
   ]
  },
  {
   "cell_type": "code",
   "execution_count": 15,
   "metadata": {
    "collapsed": true
   },
   "outputs": [],
   "source": [
    "bottleneck_features = np.load('bottleneck_features/DogVGG16Data.npz')\n",
    "train_VGG16 = bottleneck_features['train']\n",
    "valid_VGG16 = bottleneck_features['valid']\n",
    "test_VGG16 = bottleneck_features['test']"
   ]
  },
  {
   "cell_type": "markdown",
   "metadata": {},
   "source": [
    "### Model Architecture\n",
    "\n",
    "The model uses the the pre-trained VGG-16 model as a fixed feature extractor, where the last convolutional output of VGG-16 is fed as input to our model.  We only add a global average pooling layer and a fully connected layer, where the latter contains one node for each dog category and is equipped with a softmax."
   ]
  },
  {
   "cell_type": "code",
   "execution_count": 16,
   "metadata": {},
   "outputs": [
    {
     "name": "stdout",
     "output_type": "stream",
     "text": [
      "_________________________________________________________________\n",
      "Layer (type)                 Output Shape              Param #   \n",
      "=================================================================\n",
      "global_average_pooling2d_2 ( (None, 512)               0         \n",
      "_________________________________________________________________\n",
      "dense_2 (Dense)              (None, 133)               68229     \n",
      "=================================================================\n",
      "Total params: 68,229.0\n",
      "Trainable params: 68,229.0\n",
      "Non-trainable params: 0.0\n",
      "_________________________________________________________________\n"
     ]
    }
   ],
   "source": [
    "VGG16_model = Sequential()\n",
    "VGG16_model.add(GlobalAveragePooling2D(input_shape=train_VGG16.shape[1:]))\n",
    "VGG16_model.add(Dense(133, activation='softmax'))\n",
    "\n",
    "VGG16_model.summary()"
   ]
  },
  {
   "cell_type": "markdown",
   "metadata": {},
   "source": [
    "### Compile the Model"
   ]
  },
  {
   "cell_type": "code",
   "execution_count": 17,
   "metadata": {
    "collapsed": true
   },
   "outputs": [],
   "source": [
    "VGG16_model.compile(loss='categorical_crossentropy', optimizer='rmsprop', metrics=['accuracy'])"
   ]
  },
  {
   "cell_type": "markdown",
   "metadata": {},
   "source": [
    "### Train the Model"
   ]
  },
  {
   "cell_type": "code",
   "execution_count": 21,
   "metadata": {},
   "outputs": [
    {
     "name": "stdout",
     "output_type": "stream",
     "text": [
      "Train on 6680 samples, validate on 835 samples\n",
      "Epoch 1/20\n",
      "6500/6680 [============================>.] - ETA: 0s - loss: 7.8069 - acc: 0.5068Epoch 00000: val_loss improved from inf to 8.65459, saving model to saved_models/weights.best.VGG16.hdf5\n",
      "6680/6680 [==============================] - 1s - loss: 7.7922 - acc: 0.5078 - val_loss: 8.6546 - val_acc: 0.4036\n",
      "Epoch 2/20\n",
      "6580/6680 [============================>.] - ETA: 0s - loss: 7.7502 - acc: 0.5128Epoch 00001: val_loss improved from 8.65459 to 8.57650, saving model to saved_models/weights.best.VGG16.hdf5\n",
      "6680/6680 [==============================] - 1s - loss: 7.7411 - acc: 0.5133 - val_loss: 8.5765 - val_acc: 0.3976\n",
      "Epoch 3/20\n",
      "6440/6680 [===========================>..] - ETA: 0s - loss: 7.5857 - acc: 0.5144Epoch 00002: val_loss improved from 8.57650 to 8.37085, saving model to saved_models/weights.best.VGG16.hdf5\n",
      "6680/6680 [==============================] - 1s - loss: 7.5917 - acc: 0.5142 - val_loss: 8.3709 - val_acc: 0.4168\n",
      "Epoch 4/20\n",
      "6500/6680 [============================>.] - ETA: 0s - loss: 7.4208 - acc: 0.5254Epoch 00003: val_loss did not improve\n",
      "6680/6680 [==============================] - 1s - loss: 7.4292 - acc: 0.5246 - val_loss: 8.3792 - val_acc: 0.4180\n",
      "Epoch 5/20\n",
      "6460/6680 [============================>.] - ETA: 0s - loss: 7.2370 - acc: 0.5381Epoch 00004: val_loss improved from 8.37085 to 8.16293, saving model to saved_models/weights.best.VGG16.hdf5\n",
      "6680/6680 [==============================] - 1s - loss: 7.2723 - acc: 0.5361 - val_loss: 8.1629 - val_acc: 0.4263\n",
      "Epoch 6/20\n",
      "6640/6680 [============================>.] - ETA: 0s - loss: 7.1538 - acc: 0.5432Epoch 00005: val_loss improved from 8.16293 to 8.04684, saving model to saved_models/weights.best.VGG16.hdf5\n",
      "6680/6680 [==============================] - 1s - loss: 7.1520 - acc: 0.5434 - val_loss: 8.0468 - val_acc: 0.4419\n",
      "Epoch 7/20\n",
      "6660/6680 [============================>.] - ETA: 0s - loss: 7.0674 - acc: 0.5524Epoch 00006: val_loss did not improve\n",
      "6680/6680 [==============================] - 1s - loss: 7.0830 - acc: 0.5513 - val_loss: 8.0680 - val_acc: 0.4359\n",
      "Epoch 8/20\n",
      "6440/6680 [===========================>..] - ETA: 0s - loss: 7.0522 - acc: 0.5519Epoch 00007: val_loss improved from 8.04684 to 7.96378, saving model to saved_models/weights.best.VGG16.hdf5\n",
      "6680/6680 [==============================] - 1s - loss: 7.0155 - acc: 0.5542 - val_loss: 7.9638 - val_acc: 0.4419\n",
      "Epoch 9/20\n",
      "6560/6680 [============================>.] - ETA: 0s - loss: 6.9451 - acc: 0.5598Epoch 00008: val_loss improved from 7.96378 to 7.92672, saving model to saved_models/weights.best.VGG16.hdf5\n",
      "6680/6680 [==============================] - 1s - loss: 6.9420 - acc: 0.5599 - val_loss: 7.9267 - val_acc: 0.4479\n",
      "Epoch 10/20\n",
      "6500/6680 [============================>.] - ETA: 0s - loss: 6.8914 - acc: 0.5668Epoch 00009: val_loss improved from 7.92672 to 7.87635, saving model to saved_models/weights.best.VGG16.hdf5\n",
      "6680/6680 [==============================] - 1s - loss: 6.9037 - acc: 0.5660 - val_loss: 7.8764 - val_acc: 0.4479\n",
      "Epoch 11/20\n",
      "6540/6680 [============================>.] - ETA: 0s - loss: 6.8873 - acc: 0.5679Epoch 00010: val_loss improved from 7.87635 to 7.85241, saving model to saved_models/weights.best.VGG16.hdf5\n",
      "6680/6680 [==============================] - 1s - loss: 6.8858 - acc: 0.5680 - val_loss: 7.8524 - val_acc: 0.4551\n",
      "Epoch 12/20\n",
      "6620/6680 [============================>.] - ETA: 0s - loss: 6.8791 - acc: 0.5687Epoch 00011: val_loss did not improve\n",
      "6680/6680 [==============================] - 1s - loss: 6.8801 - acc: 0.5687 - val_loss: 7.8904 - val_acc: 0.4515\n",
      "Epoch 13/20\n",
      "6440/6680 [===========================>..] - ETA: 0s - loss: 6.8577 - acc: 0.5707Epoch 00012: val_loss did not improve\n",
      "6680/6680 [==============================] - 1s - loss: 6.8749 - acc: 0.5695 - val_loss: 7.8692 - val_acc: 0.4611\n",
      "Epoch 14/20\n",
      "6540/6680 [============================>.] - ETA: 0s - loss: 6.8654 - acc: 0.5720Epoch 00013: val_loss improved from 7.85241 to 7.83250, saving model to saved_models/weights.best.VGG16.hdf5\n",
      "6680/6680 [==============================] - 1s - loss: 6.8645 - acc: 0.5720 - val_loss: 7.8325 - val_acc: 0.4623\n",
      "Epoch 15/20\n",
      "6640/6680 [============================>.] - ETA: 0s - loss: 6.8559 - acc: 0.5718Epoch 00014: val_loss did not improve\n",
      "6680/6680 [==============================] - 1s - loss: 6.8631 - acc: 0.5714 - val_loss: 7.9172 - val_acc: 0.4599\n",
      "Epoch 16/20\n",
      "6660/6680 [============================>.] - ETA: 0s - loss: 6.8621 - acc: 0.5722Epoch 00015: val_loss did not improve\n",
      "6680/6680 [==============================] - 1s - loss: 6.8584 - acc: 0.5725 - val_loss: 7.8878 - val_acc: 0.4575\n",
      "Epoch 17/20\n",
      "6560/6680 [============================>.] - ETA: 0s - loss: 6.8234 - acc: 0.5730Epoch 00016: val_loss did not improve\n",
      "6680/6680 [==============================] - 1s - loss: 6.8334 - acc: 0.5720 - val_loss: 7.8722 - val_acc: 0.4563\n",
      "Epoch 18/20\n",
      "6640/6680 [============================>.] - ETA: 0s - loss: 6.7100 - acc: 0.5780Epoch 00017: val_loss improved from 7.83250 to 7.70862, saving model to saved_models/weights.best.VGG16.hdf5\n",
      "6680/6680 [==============================] - 1s - loss: 6.7037 - acc: 0.5784 - val_loss: 7.7086 - val_acc: 0.4695\n",
      "Epoch 19/20\n",
      "6580/6680 [============================>.] - ETA: 0s - loss: 6.6729 - acc: 0.5837Epoch 00018: val_loss improved from 7.70862 to 7.70656, saving model to saved_models/weights.best.VGG16.hdf5\n",
      "6680/6680 [==============================] - 1s - loss: 6.6720 - acc: 0.5838 - val_loss: 7.7066 - val_acc: 0.4695\n",
      "Epoch 20/20\n",
      "6380/6680 [===========================>..] - ETA: 0s - loss: 6.6663 - acc: 0.5848Epoch 00019: val_loss improved from 7.70656 to 7.70452, saving model to saved_models/weights.best.VGG16.hdf5\n",
      "6680/6680 [==============================] - 1s - loss: 6.6686 - acc: 0.5847 - val_loss: 7.7045 - val_acc: 0.4766\n"
     ]
    },
    {
     "data": {
      "text/plain": [
       "<keras.callbacks.History at 0x7f78550270f0>"
      ]
     },
     "execution_count": 21,
     "metadata": {},
     "output_type": "execute_result"
    }
   ],
   "source": [
    "checkpointer = ModelCheckpoint(filepath='saved_models/weights.best.VGG16.hdf5', \n",
    "                               verbose=1, save_best_only=True)\n",
    "\n",
    "VGG16_model.fit(train_VGG16, train_targets, \n",
    "          validation_data=(valid_VGG16, valid_targets),\n",
    "          epochs=20, batch_size=20, callbacks=[checkpointer], verbose=1)"
   ]
  },
  {
   "cell_type": "markdown",
   "metadata": {},
   "source": [
    "### Load the Model with the Best Validation Loss"
   ]
  },
  {
   "cell_type": "code",
   "execution_count": 22,
   "metadata": {
    "collapsed": true
   },
   "outputs": [],
   "source": [
    "VGG16_model.load_weights('saved_models/weights.best.VGG16.hdf5')"
   ]
  },
  {
   "cell_type": "markdown",
   "metadata": {},
   "source": [
    "### Test the Model\n",
    "\n",
    "Now, we can use the CNN to test how well it identifies breed within our test dataset of dog images.  We print the test accuracy below."
   ]
  },
  {
   "cell_type": "code",
   "execution_count": 23,
   "metadata": {},
   "outputs": [
    {
     "name": "stdout",
     "output_type": "stream",
     "text": [
      "Test accuracy: 47.6077%\n"
     ]
    }
   ],
   "source": [
    "# get index of predicted dog breed for each image in test set\n",
    "VGG16_predictions = [np.argmax(VGG16_model.predict(np.expand_dims(feature, axis=0))) for feature in test_VGG16]\n",
    "\n",
    "# report test accuracy\n",
    "test_accuracy = 100*np.sum(np.array(VGG16_predictions)==np.argmax(test_targets, axis=1))/len(VGG16_predictions)\n",
    "print('Test accuracy: %.4f%%' % test_accuracy)"
   ]
  },
  {
   "cell_type": "markdown",
   "metadata": {},
   "source": [
    "### Predict Dog Breed with the Model"
   ]
  },
  {
   "cell_type": "code",
   "execution_count": 24,
   "metadata": {
    "collapsed": true
   },
   "outputs": [],
   "source": [
    "from extract_bottleneck_features import *\n",
    "\n",
    "def VGG16_predict_breed(img_path):\n",
    "    # extract bottleneck features\n",
    "    bottleneck_feature = extract_VGG16(path_to_tensor(img_path))\n",
    "    # obtain predicted vector\n",
    "    predicted_vector = VGG16_model.predict(bottleneck_feature)\n",
    "    # return dog breed that is predicted by the model\n",
    "    return dog_names[np.argmax(predicted_vector)]"
   ]
  },
  {
   "cell_type": "markdown",
   "metadata": {},
   "source": [
    "---\n",
    "<a id='step5'></a>\n",
    "## Step 5: Create a CNN to Classify Dog Breeds (using Transfer Learning)\n",
    "\n",
    "You will now use transfer learning to create a CNN that can identify dog breed from images.  Your CNN must attain at least 60% accuracy on the test set.\n",
    "\n",
    "In Step 4, we used transfer learning to create a CNN using VGG-16 bottleneck features.  In this section, you must use the bottleneck features from a different pre-trained model.  To make things easier for you, we have pre-computed the features for all of the networks that are currently available in Keras:\n",
    "- [VGG-19](https://s3-us-west-1.amazonaws.com/udacity-aind/dog-project/DogVGG19Data.npz) bottleneck features\n",
    "- [ResNet-50](https://s3-us-west-1.amazonaws.com/udacity-aind/dog-project/DogResnet50Data.npz) bottleneck features\n",
    "- [Inception](https://s3-us-west-1.amazonaws.com/udacity-aind/dog-project/DogInceptionV3Data.npz) bottleneck features\n",
    "- [Xception](https://s3-us-west-1.amazonaws.com/udacity-aind/dog-project/DogXceptionData.npz) bottleneck features\n",
    "\n",
    "The files are encoded as such:\n",
    "\n",
    "    Dog{network}Data.npz\n",
    "    \n",
    "where `{network}`, in the above filename, can be one of `VGG19`, `Resnet50`, `InceptionV3`, or `Xception`.  Pick one of the above architectures, download the corresponding bottleneck features, and store the downloaded file in the `bottleneck_features/` folder in the repository.\n",
    "\n",
    "### (IMPLEMENTATION) Obtain Bottleneck Features\n",
    "\n",
    "In the code block below, extract the bottleneck features corresponding to the train, test, and validation sets by running the following:\n",
    "\n",
    "    bottleneck_features = np.load('bottleneck_features/Dog{network}Data.npz')\n",
    "    train_{network} = bottleneck_features['train']\n",
    "    valid_{network} = bottleneck_features['valid']\n",
    "    test_{network} = bottleneck_features['test']"
   ]
  },
  {
   "cell_type": "code",
   "execution_count": 25,
   "metadata": {
    "collapsed": true
   },
   "outputs": [],
   "source": [
    "### TODO: Obtain bottleneck features from another pre-trained CNN.\n",
    "nets = ['VGG19', 'Resnet50', 'Xception', 'InceptionV3', ]\n",
    "\n",
    "def load_features(net):\n",
    "    return np.load('bottleneck_features/Dog{}Data.npz'.format(net))"
   ]
  },
  {
   "cell_type": "markdown",
   "metadata": {},
   "source": [
    "### (IMPLEMENTATION) Model Architecture\n",
    "\n",
    "Create a CNN to classify dog breed.  At the end of your code cell block, summarize the layers of your model by executing the line:\n",
    "    \n",
    "        <your model's name>.summary()\n",
    "   \n",
    "__Question 5:__ Outline the steps you took to get to your final CNN architecture and your reasoning at each step.  Describe why you think the architecture is suitable for the current problem.\n",
    "\n",
    "__Answer:__ We saw during the lesson that Transfer Learning can greatly improve the performance of our network. This technique however depends on the initial architecture that we select. In order to test the performance of each pre-trained network, I implemented my code so that I can easily test the performance of each one.\n",
    "\n",
    "We saw during the previous step that adding a GlobalAveragePooling and a Dense layer at the end of the network gives us good performances. In this case, I obtained the following accuracies:\n",
    "- VGG19: 49.4019%\n",
    "- Resnet50: 78.2297%\n",
    "- Xception: 85.6459%\n",
    "- InceptionV3: 79.4258%\n",
    "\n",
    "We see that Xception greatly outperforms the other networks. This is an important decision to make at the beginning at the performance.\n",
    "\n",
    "As alternatives, I have tried to add a Dense and Dropout layer similar to the previous step. The accuracies dropped for all networks:\n",
    "- VGG19: 10.1675%\n",
    "- Resnet50: 19.4976%\n",
    "- Xception: 30.1435%\n",
    "- InceptionV3: 21.2919%\n",
    "\n",
    "Thus, I decided to keep the first architecture using Xception for Transfer Learning because of its greater performance. This model is also easy to train and tweak on a regular laptop. The accuracy of this network is 85.6%."
   ]
  },
  {
   "cell_type": "code",
   "execution_count": 26,
   "metadata": {},
   "outputs": [
    {
     "name": "stdout",
     "output_type": "stream",
     "text": [
      "Setup: VGG19\n",
      "_________________________________________________________________\n",
      "Layer (type)                 Output Shape              Param #   \n",
      "=================================================================\n",
      "global_average_pooling2d_3 ( (None, 512)               0         \n",
      "_________________________________________________________________\n",
      "dense_3 (Dense)              (None, 133)               68229     \n",
      "=================================================================\n",
      "Total params: 68,229.0\n",
      "Trainable params: 68,229.0\n",
      "Non-trainable params: 0.0\n",
      "_________________________________________________________________\n",
      "Setup: Resnet50\n",
      "_________________________________________________________________\n",
      "Layer (type)                 Output Shape              Param #   \n",
      "=================================================================\n",
      "global_average_pooling2d_4 ( (None, 2048)              0         \n",
      "_________________________________________________________________\n",
      "dense_4 (Dense)              (None, 133)               272517    \n",
      "=================================================================\n",
      "Total params: 272,517.0\n",
      "Trainable params: 272,517.0\n",
      "Non-trainable params: 0.0\n",
      "_________________________________________________________________\n",
      "Setup: Xception\n",
      "_________________________________________________________________\n",
      "Layer (type)                 Output Shape              Param #   \n",
      "=================================================================\n",
      "global_average_pooling2d_5 ( (None, 2048)              0         \n",
      "_________________________________________________________________\n",
      "dense_5 (Dense)              (None, 133)               272517    \n",
      "=================================================================\n",
      "Total params: 272,517.0\n",
      "Trainable params: 272,517.0\n",
      "Non-trainable params: 0.0\n",
      "_________________________________________________________________\n",
      "Setup: InceptionV3\n",
      "_________________________________________________________________\n",
      "Layer (type)                 Output Shape              Param #   \n",
      "=================================================================\n",
      "global_average_pooling2d_6 ( (None, 2048)              0         \n",
      "_________________________________________________________________\n",
      "dense_6 (Dense)              (None, 133)               272517    \n",
      "=================================================================\n",
      "Total params: 272,517.0\n",
      "Trainable params: 272,517.0\n",
      "Non-trainable params: 0.0\n",
      "_________________________________________________________________\n"
     ]
    }
   ],
   "source": [
    "### TODO: Define your architecture.\n",
    "\n",
    "def setup(net):\n",
    "    features = load_features(net)\n",
    "    \n",
    "    model = Sequential()\n",
    "    model.__name__ = net\n",
    "    model.add(GlobalAveragePooling2D(input_shape=features['train'].shape[1:]))\n",
    "    model.add(Dense(133, activation='softmax'))\n",
    "    \n",
    "    \n",
    "    return model\n",
    "\n",
    "\n",
    "models = [setup(net) for net in nets]\n",
    "\n",
    "for model in models:\n",
    "    print(\"Setup: {}\".format(model.__name__))\n",
    "    model.summary()"
   ]
  },
  {
   "cell_type": "markdown",
   "metadata": {},
   "source": [
    "### (IMPLEMENTATION) Compile the Model"
   ]
  },
  {
   "cell_type": "code",
   "execution_count": 27,
   "metadata": {},
   "outputs": [
    {
     "name": "stdout",
     "output_type": "stream",
     "text": [
      "Compilation: VGG19\n",
      "Compilation: Resnet50\n",
      "Compilation: Xception\n",
      "Compilation: InceptionV3\n"
     ]
    }
   ],
   "source": [
    "### TODO: Compile the model.\n",
    "\n",
    "def compilation(model):\n",
    "    model.compile(loss='categorical_crossentropy', optimizer='rmsprop', metrics=['accuracy'])\n",
    "    \n",
    "    return model\n",
    "\n",
    "\n",
    "for model in models:\n",
    "    print(\"Compilation: {}\".format(model.__name__))\n",
    "    compilation(model)"
   ]
  },
  {
   "cell_type": "markdown",
   "metadata": {},
   "source": [
    "### (IMPLEMENTATION) Train the Model\n",
    "\n",
    "Train your model in the code cell below.  Use model checkpointing to save the model that attains the best validation loss.  \n",
    "\n",
    "You are welcome to [augment the training data](https://blog.keras.io/building-powerful-image-classification-models-using-very-little-data.html), but this is not a requirement. "
   ]
  },
  {
   "cell_type": "code",
   "execution_count": 28,
   "metadata": {
    "scrolled": true
   },
   "outputs": [
    {
     "name": "stdout",
     "output_type": "stream",
     "text": [
      "Training: VGG19\n",
      "Train on 6680 samples, validate on 835 samples\n",
      "Epoch 1/20\n",
      "6420/6680 [===========================>..] - ETA: 0s - loss: 12.0462 - acc: 0.1305Epoch 00000: val_loss improved from inf to 10.71137, saving model to saved_models/weights.best.VGG19.hdf5\n",
      "6680/6680 [==============================] - 1s - loss: 11.9878 - acc: 0.1349 - val_loss: 10.7114 - val_acc: 0.2240\n",
      "Epoch 2/20\n",
      "6580/6680 [============================>.] - ETA: 0s - loss: 9.8571 - acc: 0.2991Epoch 00001: val_loss improved from 10.71137 to 9.86126, saving model to saved_models/weights.best.VGG19.hdf5\n",
      "6680/6680 [==============================] - 1s - loss: 9.8636 - acc: 0.2991 - val_loss: 9.8613 - val_acc: 0.2934\n",
      "Epoch 3/20\n",
      "6520/6680 [============================>.] - ETA: 0s - loss: 9.2902 - acc: 0.3592Epoch 00002: val_loss improved from 9.86126 to 9.48382, saving model to saved_models/weights.best.VGG19.hdf5\n",
      "6680/6680 [==============================] - 1s - loss: 9.2880 - acc: 0.3597 - val_loss: 9.4838 - val_acc: 0.3425\n",
      "Epoch 4/20\n",
      "6540/6680 [============================>.] - ETA: 0s - loss: 9.1138 - acc: 0.3942Epoch 00003: val_loss improved from 9.48382 to 9.33687, saving model to saved_models/weights.best.VGG19.hdf5\n",
      "6680/6680 [==============================] - 1s - loss: 9.0728 - acc: 0.3961 - val_loss: 9.3369 - val_acc: 0.3617\n",
      "Epoch 5/20\n",
      "6620/6680 [============================>.] - ETA: 0s - loss: 8.9084 - acc: 0.4140Epoch 00004: val_loss improved from 9.33687 to 9.20440, saving model to saved_models/weights.best.VGG19.hdf5\n",
      "6680/6680 [==============================] - 1s - loss: 8.9041 - acc: 0.4145 - val_loss: 9.2044 - val_acc: 0.3605\n",
      "Epoch 6/20\n",
      "6660/6680 [============================>.] - ETA: 0s - loss: 8.6888 - acc: 0.4362Epoch 00005: val_loss improved from 9.20440 to 9.06839, saving model to saved_models/weights.best.VGG19.hdf5\n",
      "6680/6680 [==============================] - 1s - loss: 8.6860 - acc: 0.4362 - val_loss: 9.0684 - val_acc: 0.3749\n",
      "Epoch 7/20\n",
      "6440/6680 [===========================>..] - ETA: 0s - loss: 8.6078 - acc: 0.4421Epoch 00006: val_loss improved from 9.06839 to 9.04270, saving model to saved_models/weights.best.VGG19.hdf5\n",
      "6680/6680 [==============================] - 1s - loss: 8.6061 - acc: 0.4421 - val_loss: 9.0427 - val_acc: 0.3725\n",
      "Epoch 8/20\n",
      "6560/6680 [============================>.] - ETA: 0s - loss: 8.5579 - acc: 0.4524Epoch 00007: val_loss did not improve\n",
      "6680/6680 [==============================] - 1s - loss: 8.5494 - acc: 0.4531 - val_loss: 9.0848 - val_acc: 0.3760\n",
      "Epoch 9/20\n",
      "6600/6680 [============================>.] - ETA: 0s - loss: 8.5155 - acc: 0.4608Epoch 00008: val_loss improved from 9.04270 to 9.01271, saving model to saved_models/weights.best.VGG19.hdf5\n",
      "6680/6680 [==============================] - 1s - loss: 8.5097 - acc: 0.4609 - val_loss: 9.0127 - val_acc: 0.3808\n",
      "Epoch 10/20\n",
      "6440/6680 [===========================>..] - ETA: 0s - loss: 8.5041 - acc: 0.4613Epoch 00009: val_loss improved from 9.01271 to 8.98403, saving model to saved_models/weights.best.VGG19.hdf5\n",
      "6680/6680 [==============================] - 1s - loss: 8.4950 - acc: 0.4614 - val_loss: 8.9840 - val_acc: 0.3916\n",
      "Epoch 11/20\n",
      "6540/6680 [============================>.] - ETA: 0s - loss: 8.3548 - acc: 0.4673Epoch 00010: val_loss improved from 8.98403 to 8.90990, saving model to saved_models/weights.best.VGG19.hdf5\n",
      "6680/6680 [==============================] - 1s - loss: 8.3679 - acc: 0.4660 - val_loss: 8.9099 - val_acc: 0.3832\n",
      "Epoch 12/20\n",
      "6420/6680 [===========================>..] - ETA: 0s - loss: 8.0686 - acc: 0.4794Epoch 00011: val_loss improved from 8.90990 to 8.54470, saving model to saved_models/weights.best.VGG19.hdf5\n",
      "6680/6680 [==============================] - 1s - loss: 8.0567 - acc: 0.4798 - val_loss: 8.5447 - val_acc: 0.4000\n",
      "Epoch 13/20\n",
      "6600/6680 [============================>.] - ETA: 0s - loss: 7.8588 - acc: 0.4921Epoch 00012: val_loss improved from 8.54470 to 8.47140, saving model to saved_models/weights.best.VGG19.hdf5\n",
      "6680/6680 [==============================] - 1s - loss: 7.8539 - acc: 0.4922 - val_loss: 8.4714 - val_acc: 0.4168\n",
      "Epoch 14/20\n",
      "6480/6680 [============================>.] - ETA: 0s - loss: 7.7031 - acc: 0.5074Epoch 00013: val_loss improved from 8.47140 to 8.38647, saving model to saved_models/weights.best.VGG19.hdf5\n",
      "6680/6680 [==============================] - 1s - loss: 7.7289 - acc: 0.5060 - val_loss: 8.3865 - val_acc: 0.4156\n",
      "Epoch 15/20\n",
      "6600/6680 [============================>.] - ETA: 0s - loss: 7.6753 - acc: 0.5127Epoch 00014: val_loss improved from 8.38647 to 8.25338, saving model to saved_models/weights.best.VGG19.hdf5\n",
      "6680/6680 [==============================] - 1s - loss: 7.6657 - acc: 0.5130 - val_loss: 8.2534 - val_acc: 0.4132\n",
      "Epoch 16/20\n",
      "6460/6680 [============================>.] - ETA: 0s - loss: 7.5147 - acc: 0.5232Epoch 00015: val_loss improved from 8.25338 to 8.19974, saving model to saved_models/weights.best.VGG19.hdf5\n",
      "6680/6680 [==============================] - 1s - loss: 7.5113 - acc: 0.5237 - val_loss: 8.1997 - val_acc: 0.4299\n",
      "Epoch 17/20\n",
      "6560/6680 [============================>.] - ETA: 0s - loss: 7.4896 - acc: 0.5276Epoch 00016: val_loss did not improve\n",
      "6680/6680 [==============================] - 1s - loss: 7.4821 - acc: 0.5280 - val_loss: 8.2126 - val_acc: 0.4156\n",
      "Epoch 18/20\n",
      "6420/6680 [===========================>..] - ETA: 0s - loss: 7.3610 - acc: 0.5322Epoch 00017: val_loss improved from 8.19974 to 7.97092, saving model to saved_models/weights.best.VGG19.hdf5\n",
      "6680/6680 [==============================] - 1s - loss: 7.3628 - acc: 0.5317 - val_loss: 7.9709 - val_acc: 0.4503\n",
      "Epoch 19/20\n",
      "6440/6680 [===========================>..] - ETA: 0s - loss: 7.2212 - acc: 0.5377Epoch 00018: val_loss improved from 7.97092 to 7.89378, saving model to saved_models/weights.best.VGG19.hdf5\n",
      "6680/6680 [==============================] - 1s - loss: 7.2181 - acc: 0.5383 - val_loss: 7.8938 - val_acc: 0.4515\n",
      "Epoch 20/20\n",
      "6520/6680 [============================>.] - ETA: 0s - loss: 7.1430 - acc: 0.5471Epoch 00019: val_loss did not improve\n",
      "6680/6680 [==============================] - 1s - loss: 7.1434 - acc: 0.5472 - val_loss: 7.9268 - val_acc: 0.4287\n",
      "Training: Resnet50\n",
      "Train on 6680 samples, validate on 835 samples\n",
      "Epoch 1/20\n",
      "6420/6680 [===========================>..] - ETA: 0s - loss: 1.6915 - acc: 0.5836Epoch 00000: val_loss improved from inf to 0.83322, saving model to saved_models/weights.best.Resnet50.hdf5\n",
      "6680/6680 [==============================] - 1s - loss: 1.6544 - acc: 0.5909 - val_loss: 0.8332 - val_acc: 0.7425\n",
      "Epoch 2/20\n",
      "6640/6680 [============================>.] - ETA: 0s - loss: 0.4363 - acc: 0.8625Epoch 00001: val_loss improved from 0.83322 to 0.73094, saving model to saved_models/weights.best.Resnet50.hdf5\n",
      "6680/6680 [==============================] - 1s - loss: 0.4369 - acc: 0.8624 - val_loss: 0.7309 - val_acc: 0.7737\n",
      "Epoch 3/20\n",
      "6400/6680 [===========================>..] - ETA: 0s - loss: 0.2547 - acc: 0.9172Epoch 00002: val_loss improved from 0.73094 to 0.70451, saving model to saved_models/weights.best.Resnet50.hdf5\n",
      "6680/6680 [==============================] - 1s - loss: 0.2550 - acc: 0.9163 - val_loss: 0.7045 - val_acc: 0.7844\n",
      "Epoch 4/20\n",
      "6400/6680 [===========================>..] - ETA: 0s - loss: 0.1720 - acc: 0.9455Epoch 00003: val_loss improved from 0.70451 to 0.68488, saving model to saved_models/weights.best.Resnet50.hdf5\n",
      "6680/6680 [==============================] - 1s - loss: 0.1703 - acc: 0.9466 - val_loss: 0.6849 - val_acc: 0.7928\n",
      "Epoch 5/20\n",
      "6600/6680 [============================>.] - ETA: 0s - loss: 0.1193 - acc: 0.9642Epoch 00004: val_loss did not improve\n",
      "6680/6680 [==============================] - 0s - loss: 0.1204 - acc: 0.9641 - val_loss: 0.7181 - val_acc: 0.7976\n",
      "Epoch 6/20\n",
      "6660/6680 [============================>.] - ETA: 0s - loss: 0.0906 - acc: 0.9733Epoch 00005: val_loss improved from 0.68488 to 0.64839, saving model to saved_models/weights.best.Resnet50.hdf5\n",
      "6680/6680 [==============================] - 1s - loss: 0.0906 - acc: 0.9732 - val_loss: 0.6484 - val_acc: 0.8168\n",
      "Epoch 7/20\n",
      "6480/6680 [============================>.] - ETA: 0s - loss: 0.0623 - acc: 0.9801Epoch 00006: val_loss did not improve\n"
     ]
    },
    {
     "name": "stdout",
     "output_type": "stream",
     "text": [
      "6680/6680 [==============================] - 1s - loss: 0.0620 - acc: 0.9802 - val_loss: 0.7511 - val_acc: 0.8036\n",
      "Epoch 8/20\n",
      "6620/6680 [============================>.] - ETA: 0s - loss: 0.0491 - acc: 0.9858Epoch 00007: val_loss did not improve\n",
      "6680/6680 [==============================] - 1s - loss: 0.0494 - acc: 0.9858 - val_loss: 0.7108 - val_acc: 0.8383\n",
      "Epoch 9/20\n",
      "6660/6680 [============================>.] - ETA: 0s - loss: 0.0365 - acc: 0.9902Epoch 00008: val_loss did not improve\n",
      "6680/6680 [==============================] - 1s - loss: 0.0369 - acc: 0.9901 - val_loss: 0.7440 - val_acc: 0.8084\n",
      "Epoch 10/20\n",
      "6620/6680 [============================>.] - ETA: 0s - loss: 0.0277 - acc: 0.9914Epoch 00009: val_loss did not improve\n",
      "6680/6680 [==============================] - 1s - loss: 0.0277 - acc: 0.9915 - val_loss: 0.7486 - val_acc: 0.8192\n",
      "Epoch 11/20\n",
      "6340/6680 [===========================>..] - ETA: 0s - loss: 0.0221 - acc: 0.9935Epoch 00010: val_loss did not improve\n",
      "6680/6680 [==============================] - 1s - loss: 0.0219 - acc: 0.9937 - val_loss: 0.7591 - val_acc: 0.8263\n",
      "Epoch 12/20\n",
      "6560/6680 [============================>.] - ETA: 0s - loss: 0.0171 - acc: 0.9956Epoch 00011: val_loss did not improve\n",
      "6680/6680 [==============================] - 1s - loss: 0.0171 - acc: 0.9957 - val_loss: 0.7955 - val_acc: 0.8228\n",
      "Epoch 13/20\n",
      "6480/6680 [============================>.] - ETA: 0s - loss: 0.0143 - acc: 0.9971Epoch 00012: val_loss did not improve\n",
      "6680/6680 [==============================] - 1s - loss: 0.0142 - acc: 0.9970 - val_loss: 0.8168 - val_acc: 0.8072\n",
      "Epoch 14/20\n",
      "6440/6680 [===========================>..] - ETA: 0s - loss: 0.0107 - acc: 0.9972Epoch 00013: val_loss did not improve\n",
      "6680/6680 [==============================] - 1s - loss: 0.0110 - acc: 0.9972 - val_loss: 0.8476 - val_acc: 0.8132\n",
      "Epoch 15/20\n",
      "6500/6680 [============================>.] - ETA: 0s - loss: 0.0091 - acc: 0.9974Epoch 00014: val_loss did not improve\n",
      "6680/6680 [==============================] - 1s - loss: 0.0093 - acc: 0.9973 - val_loss: 0.8429 - val_acc: 0.8275\n",
      "Epoch 16/20\n",
      "6600/6680 [============================>.] - ETA: 0s - loss: 0.0095 - acc: 0.9976Epoch 00015: val_loss did not improve\n",
      "6680/6680 [==============================] - 1s - loss: 0.0094 - acc: 0.9976 - val_loss: 0.8657 - val_acc: 0.8228\n",
      "Epoch 17/20\n",
      "6340/6680 [===========================>..] - ETA: 0s - loss: 0.0091 - acc: 0.9981Epoch 00016: val_loss did not improve\n",
      "6680/6680 [==============================] - 1s - loss: 0.0087 - acc: 0.9982 - val_loss: 0.9049 - val_acc: 0.8240\n",
      "Epoch 18/20\n",
      "6380/6680 [===========================>..] - ETA: 0s - loss: 0.0057 - acc: 0.9987Epoch 00017: val_loss did not improve\n",
      "6680/6680 [==============================] - 1s - loss: 0.0070 - acc: 0.9987 - val_loss: 0.9112 - val_acc: 0.8168\n",
      "Epoch 19/20\n",
      "6560/6680 [============================>.] - ETA: 0s - loss: 0.0054 - acc: 0.9983Epoch 00018: val_loss did not improve\n",
      "6680/6680 [==============================] - 1s - loss: 0.0053 - acc: 0.9984 - val_loss: 0.8907 - val_acc: 0.8180\n",
      "Epoch 20/20\n",
      "6540/6680 [============================>.] - ETA: 0s - loss: 0.0048 - acc: 0.9985Epoch 00019: val_loss did not improve\n",
      "6680/6680 [==============================] - 1s - loss: 0.0047 - acc: 0.9985 - val_loss: 0.9653 - val_acc: 0.8216\n",
      "Training: Xception\n",
      "Train on 6680 samples, validate on 835 samples\n",
      "Epoch 1/20\n",
      "6580/6680 [============================>.] - ETA: 0s - loss: 1.0692 - acc: 0.7322Epoch 00000: val_loss improved from inf to 0.51703, saving model to saved_models/weights.best.Xception.hdf5\n",
      "6680/6680 [==============================] - 3s - loss: 1.0620 - acc: 0.7340 - val_loss: 0.5170 - val_acc: 0.8443\n",
      "Epoch 2/20\n",
      "6540/6680 [============================>.] - ETA: 0s - loss: 0.3973 - acc: 0.8720Epoch 00001: val_loss improved from 0.51703 to 0.48258, saving model to saved_models/weights.best.Xception.hdf5\n",
      "6680/6680 [==============================] - 2s - loss: 0.3945 - acc: 0.8728 - val_loss: 0.4826 - val_acc: 0.8407\n",
      "Epoch 3/20\n",
      "6520/6680 [============================>.] - ETA: 0s - loss: 0.3133 - acc: 0.8991Epoch 00002: val_loss did not improve\n",
      "6680/6680 [==============================] - 2s - loss: 0.3155 - acc: 0.8988 - val_loss: 0.5047 - val_acc: 0.8479\n",
      "Epoch 4/20\n",
      "6580/6680 [============================>.] - ETA: 0s - loss: 0.2723 - acc: 0.9152Epoch 00003: val_loss did not improve\n",
      "6680/6680 [==============================] - 2s - loss: 0.2745 - acc: 0.9147 - val_loss: 0.4984 - val_acc: 0.8503\n",
      "Epoch 5/20\n",
      "6500/6680 [============================>.] - ETA: 0s - loss: 0.2461 - acc: 0.9255Epoch 00004: val_loss did not improve\n",
      "6680/6680 [==============================] - 2s - loss: 0.2449 - acc: 0.9253 - val_loss: 0.5030 - val_acc: 0.8587\n",
      "Epoch 6/20\n",
      "6580/6680 [============================>.] - ETA: 0s - loss: 0.2163 - acc: 0.9315Epoch 00005: val_loss did not improve\n",
      "6680/6680 [==============================] - 2s - loss: 0.2161 - acc: 0.9310 - val_loss: 0.5210 - val_acc: 0.8491\n",
      "Epoch 7/20\n",
      "6500/6680 [============================>.] - ETA: 0s - loss: 0.1971 - acc: 0.9408Epoch 00006: val_loss did not improve\n",
      "6680/6680 [==============================] - 2s - loss: 0.1978 - acc: 0.9401 - val_loss: 0.5100 - val_acc: 0.8754\n",
      "Epoch 8/20\n",
      "6520/6680 [============================>.] - ETA: 0s - loss: 0.1784 - acc: 0.9463Epoch 00007: val_loss did not improve\n",
      "6680/6680 [==============================] - 2s - loss: 0.1768 - acc: 0.9467 - val_loss: 0.5952 - val_acc: 0.8491\n",
      "Epoch 9/20\n",
      "6560/6680 [============================>.] - ETA: 0s - loss: 0.1617 - acc: 0.9505Epoch 00008: val_loss did not improve\n",
      "6680/6680 [==============================] - 2s - loss: 0.1623 - acc: 0.9503 - val_loss: 0.5793 - val_acc: 0.8563\n",
      "Epoch 10/20\n",
      "6540/6680 [============================>.] - ETA: 0s - loss: 0.1477 - acc: 0.9549Epoch 00009: val_loss did not improve\n",
      "6680/6680 [==============================] - 2s - loss: 0.1498 - acc: 0.9543 - val_loss: 0.5755 - val_acc: 0.8527\n",
      "Epoch 11/20\n",
      "6580/6680 [============================>.] - ETA: 0s - loss: 0.1338 - acc: 0.9564Epoch 00010: val_loss did not improve\n",
      "6680/6680 [==============================] - 2s - loss: 0.1362 - acc: 0.9564 - val_loss: 0.5847 - val_acc: 0.8575\n",
      "Epoch 12/20\n",
      "6660/6680 [============================>.] - ETA: 0s - loss: 0.1251 - acc: 0.9613Epoch 00011: val_loss did not improve\n",
      "6680/6680 [==============================] - 2s - loss: 0.1249 - acc: 0.9614 - val_loss: 0.5798 - val_acc: 0.8623\n",
      "Epoch 13/20\n",
      "6640/6680 [============================>.] - ETA: 0s - loss: 0.1131 - acc: 0.9669Epoch 00012: val_loss did not improve\n",
      "6680/6680 [==============================] - 2s - loss: 0.1135 - acc: 0.9668 - val_loss: 0.6061 - val_acc: 0.8563\n",
      "Epoch 14/20\n",
      "6500/6680 [============================>.] - ETA: 0s - loss: 0.1064 - acc: 0.9683Epoch 00013: val_loss did not improve\n",
      "6680/6680 [==============================] - 2s - loss: 0.1072 - acc: 0.9686 - val_loss: 0.5873 - val_acc: 0.8635\n",
      "Epoch 15/20\n",
      "6580/6680 [============================>.] - ETA: 0s - loss: 0.1007 - acc: 0.9704Epoch 00014: val_loss did not improve\n",
      "6680/6680 [==============================] - 2s - loss: 0.0997 - acc: 0.9707 - val_loss: 0.6277 - val_acc: 0.8539\n",
      "Epoch 16/20\n",
      "6560/6680 [============================>.] - ETA: 0s - loss: 0.0951 - acc: 0.9726Epoch 00015: val_loss did not improve\n",
      "6680/6680 [==============================] - 2s - loss: 0.0941 - acc: 0.9729 - val_loss: 0.6548 - val_acc: 0.8515\n",
      "Epoch 17/20\n",
      "6560/6680 [============================>.] - ETA: 0s - loss: 0.0858 - acc: 0.9744Epoch 00016: val_loss did not improve\n",
      "6680/6680 [==============================] - 2s - loss: 0.0858 - acc: 0.9741 - val_loss: 0.6565 - val_acc: 0.8623\n",
      "Epoch 18/20\n",
      "6560/6680 [============================>.] - ETA: 0s - loss: 0.0819 - acc: 0.9771Epoch 00017: val_loss did not improve\n",
      "6680/6680 [==============================] - 2s - loss: 0.0823 - acc: 0.9771 - val_loss: 0.6744 - val_acc: 0.8515\n",
      "Epoch 19/20\n",
      "6560/6680 [============================>.] - ETA: 0s - loss: 0.0774 - acc: 0.9788Epoch 00018: val_loss did not improve\n",
      "6680/6680 [==============================] - 2s - loss: 0.0775 - acc: 0.9787 - val_loss: 0.6897 - val_acc: 0.8551\n",
      "Epoch 20/20\n"
     ]
    },
    {
     "name": "stdout",
     "output_type": "stream",
     "text": [
      "6560/6680 [============================>.] - ETA: 0s - loss: 0.0732 - acc: 0.9797Epoch 00019: val_loss did not improve\n",
      "6680/6680 [==============================] - 2s - loss: 0.0732 - acc: 0.9795 - val_loss: 0.6815 - val_acc: 0.8527\n",
      "Training: InceptionV3\n",
      "Train on 6680 samples, validate on 835 samples\n",
      "Epoch 1/20\n",
      "6480/6680 [============================>.] - ETA: 0s - loss: 1.1610 - acc: 0.7068Epoch 00000: val_loss improved from inf to 0.63536, saving model to saved_models/weights.best.InceptionV3.hdf5\n",
      "6680/6680 [==============================] - 1s - loss: 1.1476 - acc: 0.7093 - val_loss: 0.6354 - val_acc: 0.8144\n",
      "Epoch 2/20\n",
      "6600/6680 [============================>.] - ETA: 0s - loss: 0.4854 - acc: 0.8529Epoch 00001: val_loss did not improve\n",
      "6680/6680 [==============================] - 1s - loss: 0.4831 - acc: 0.8533 - val_loss: 0.6903 - val_acc: 0.8204\n",
      "Epoch 3/20\n",
      "6480/6680 [============================>.] - ETA: 0s - loss: 0.3703 - acc: 0.8877Epoch 00002: val_loss did not improve\n",
      "6680/6680 [==============================] - 1s - loss: 0.3691 - acc: 0.8868 - val_loss: 0.6687 - val_acc: 0.8323\n",
      "Epoch 4/20\n",
      "6520/6680 [============================>.] - ETA: 0s - loss: 0.2956 - acc: 0.9100Epoch 00003: val_loss did not improve\n",
      "6680/6680 [==============================] - 1s - loss: 0.2969 - acc: 0.9100 - val_loss: 0.6947 - val_acc: 0.8371\n",
      "Epoch 5/20\n",
      "6580/6680 [============================>.] - ETA: 0s - loss: 0.2455 - acc: 0.9252Epoch 00004: val_loss did not improve\n",
      "6680/6680 [==============================] - 1s - loss: 0.2444 - acc: 0.9254 - val_loss: 0.6794 - val_acc: 0.8491\n",
      "Epoch 6/20\n",
      "6580/6680 [============================>.] - ETA: 0s - loss: 0.2056 - acc: 0.9368Epoch 00005: val_loss did not improve\n",
      "6680/6680 [==============================] - 1s - loss: 0.2073 - acc: 0.9364 - val_loss: 0.6514 - val_acc: 0.8635\n",
      "Epoch 7/20\n",
      "6600/6680 [============================>.] - ETA: 0s - loss: 0.1728 - acc: 0.9477Epoch 00006: val_loss did not improve\n",
      "6680/6680 [==============================] - 1s - loss: 0.1729 - acc: 0.9479 - val_loss: 0.6805 - val_acc: 0.8575\n",
      "Epoch 8/20\n",
      "6500/6680 [============================>.] - ETA: 0s - loss: 0.1378 - acc: 0.9563Epoch 00007: val_loss did not improve\n",
      "6680/6680 [==============================] - 1s - loss: 0.1399 - acc: 0.9558 - val_loss: 0.7922 - val_acc: 0.8479\n",
      "Epoch 9/20\n",
      "6660/6680 [============================>.] - ETA: 0s - loss: 0.1223 - acc: 0.9617Epoch 00008: val_loss did not improve\n",
      "6680/6680 [==============================] - 1s - loss: 0.1220 - acc: 0.9618 - val_loss: 0.7523 - val_acc: 0.8395\n",
      "Epoch 10/20\n",
      "6640/6680 [============================>.] - ETA: 0s - loss: 0.1101 - acc: 0.9643Epoch 00009: val_loss did not improve\n",
      "6680/6680 [==============================] - 1s - loss: 0.1095 - acc: 0.9645 - val_loss: 0.7776 - val_acc: 0.8575\n",
      "Epoch 11/20\n",
      "6660/6680 [============================>.] - ETA: 0s - loss: 0.0928 - acc: 0.9713Epoch 00010: val_loss did not improve\n",
      "6680/6680 [==============================] - 1s - loss: 0.0932 - acc: 0.9711 - val_loss: 0.7904 - val_acc: 0.8503\n",
      "Epoch 12/20\n",
      "6640/6680 [============================>.] - ETA: 0s - loss: 0.0786 - acc: 0.9748Epoch 00011: val_loss did not improve\n",
      "6680/6680 [==============================] - 1s - loss: 0.0791 - acc: 0.9749 - val_loss: 0.8322 - val_acc: 0.8455\n",
      "Epoch 13/20\n",
      "6620/6680 [============================>.] - ETA: 0s - loss: 0.0695 - acc: 0.9781Epoch 00012: val_loss did not improve\n",
      "6680/6680 [==============================] - 1s - loss: 0.0697 - acc: 0.9778 - val_loss: 0.8311 - val_acc: 0.8575\n",
      "Epoch 14/20\n",
      "6500/6680 [============================>.] - ETA: 0s - loss: 0.0620 - acc: 0.9791Epoch 00013: val_loss did not improve\n",
      "6680/6680 [==============================] - 1s - loss: 0.0624 - acc: 0.9789 - val_loss: 0.7997 - val_acc: 0.8479\n",
      "Epoch 15/20\n",
      "6460/6680 [============================>.] - ETA: 0s - loss: 0.0528 - acc: 0.9816Epoch 00014: val_loss did not improve\n",
      "6680/6680 [==============================] - 1s - loss: 0.0541 - acc: 0.9816 - val_loss: 0.8953 - val_acc: 0.8479\n",
      "Epoch 16/20\n",
      "6640/6680 [============================>.] - ETA: 0s - loss: 0.0487 - acc: 0.9845Epoch 00015: val_loss did not improve\n",
      "6680/6680 [==============================] - 1s - loss: 0.0485 - acc: 0.9846 - val_loss: 0.8309 - val_acc: 0.8527\n",
      "Epoch 17/20\n",
      "6520/6680 [============================>.] - ETA: 0s - loss: 0.0425 - acc: 0.9857Epoch 00016: val_loss did not improve\n",
      "6680/6680 [==============================] - 1s - loss: 0.0421 - acc: 0.9858 - val_loss: 0.8940 - val_acc: 0.8503\n",
      "Epoch 18/20\n",
      "6500/6680 [============================>.] - ETA: 0s - loss: 0.0351 - acc: 0.9878Epoch 00017: val_loss did not improve\n",
      "6680/6680 [==============================] - 1s - loss: 0.0345 - acc: 0.9880 - val_loss: 0.9103 - val_acc: 0.8515\n",
      "Epoch 19/20\n",
      "6620/6680 [============================>.] - ETA: 0s - loss: 0.0324 - acc: 0.9909Epoch 00018: val_loss did not improve\n",
      "6680/6680 [==============================] - 1s - loss: 0.0324 - acc: 0.9909 - val_loss: 0.8977 - val_acc: 0.8635\n",
      "Epoch 20/20\n",
      "6640/6680 [============================>.] - ETA: 0s - loss: 0.0289 - acc: 0.9904Epoch 00019: val_loss did not improve\n",
      "6680/6680 [==============================] - 1s - loss: 0.0288 - acc: 0.9904 - val_loss: 0.8820 - val_acc: 0.8599\n"
     ]
    }
   ],
   "source": [
    "### TODO: Train the model.\n",
    "\n",
    "def train(model):\n",
    "    features = load_features(model.__name__)\n",
    "    checkpointer = ModelCheckpoint(filepath='saved_models/weights.best.{}.hdf5'.format(model.__name__), \n",
    "                                   verbose=1, save_best_only=True)\n",
    "\n",
    "    model.fit(features['train'], train_targets, \n",
    "              validation_data=(features['valid'], valid_targets),\n",
    "              epochs=20, batch_size=20, callbacks=[checkpointer], verbose=1)\n",
    "    \n",
    "    return model\n",
    "\n",
    "\n",
    "for model in models:\n",
    "    print(\"Training: {}\".format(model.__name__))\n",
    "    train(model)"
   ]
  },
  {
   "cell_type": "markdown",
   "metadata": {},
   "source": [
    "### (IMPLEMENTATION) Load the Model with the Best Validation Loss"
   ]
  },
  {
   "cell_type": "code",
   "execution_count": 29,
   "metadata": {},
   "outputs": [
    {
     "name": "stdout",
     "output_type": "stream",
     "text": [
      "Loading: VGG19\n",
      "Loading: Resnet50\n",
      "Loading: Xception\n",
      "Loading: InceptionV3\n"
     ]
    }
   ],
   "source": [
    "### TODO: Load the model weights with the best validation loss.\n",
    "\n",
    "def load(model):\n",
    "    path = 'saved_models/weights.best.{}.hdf5'.format(model.__name__)\n",
    "    model.load_weights(path)\n",
    "    \n",
    "    return model\n",
    "    \n",
    "    \n",
    "for model in models:\n",
    "    print(\"Loading: {}\".format(model.__name__))\n",
    "    load(model)"
   ]
  },
  {
   "cell_type": "markdown",
   "metadata": {},
   "source": [
    "### (IMPLEMENTATION) Test the Model\n",
    "\n",
    "Try out your model on the test dataset of dog images. Ensure that your test accuracy is greater than 60%."
   ]
  },
  {
   "cell_type": "code",
   "execution_count": 30,
   "metadata": {},
   "outputs": [
    {
     "name": "stdout",
     "output_type": "stream",
     "text": [
      "Testing: VGG19\n",
      "accuracy: 45.6938%\n",
      "Testing: Resnet50\n",
      "accuracy: 81.4593%\n",
      "Testing: Xception\n",
      "accuracy: 84.5694%\n",
      "Testing: InceptionV3\n",
      "accuracy: 76.5550%\n"
     ]
    }
   ],
   "source": [
    "### TODO: Calculate classification accuracy on the test dataset.\n",
    "\n",
    "def test(model):\n",
    "    features = load_features(model.__name__)\n",
    "    predictions = [np.argmax(model.predict(np.expand_dims(feature, axis=0))) for feature in features['test']]\n",
    "    score = 100 * np.sum(np.array(predictions) == np.argmax(test_targets, axis=1)) / len(predictions)\n",
    "    \n",
    "    return score\n",
    "\n",
    "\n",
    "for model in models:\n",
    "    print(\"Testing: {}\".format(model.__name__))\n",
    "    print('accuracy: %.4f%%' % test(model))"
   ]
  },
  {
   "cell_type": "markdown",
   "metadata": {},
   "source": [
    "### (IMPLEMENTATION) Predict Dog Breed with the Model\n",
    "\n",
    "Write a function that takes an image path as input and returns the dog breed (`Affenpinscher`, `Afghan_hound`, etc) that is predicted by your model.  \n",
    "\n",
    "Similar to the analogous function in Step 5, your function should have three steps:\n",
    "1. Extract the bottleneck features corresponding to the chosen CNN model.\n",
    "2. Supply the bottleneck features as input to the model to return the predicted vector.  Note that the argmax of this prediction vector gives the index of the predicted dog breed.\n",
    "3. Use the `dog_names` array defined in Step 0 of this notebook to return the corresponding breed.\n",
    "\n",
    "The functions to extract the bottleneck features can be found in `extract_bottleneck_features.py`, and they have been imported in an earlier code cell.  To obtain the bottleneck features corresponding to your chosen CNN architecture, you need to use the function\n",
    "\n",
    "    extract_{network}\n",
    "    \n",
    "where `{network}`, in the above filename, should be one of `VGG19`, `Resnet50`, `InceptionV3`, or `Xception`."
   ]
  },
  {
   "cell_type": "code",
   "execution_count": 31,
   "metadata": {},
   "outputs": [],
   "source": [
    "### TODO: Write a function that takes a path to an image as input\n",
    "from extract_bottleneck_features import *\n",
    "\n",
    "breed_model = models[2]  # Xception\n",
    "\n",
    "def predict_breed(img_path):\n",
    "    # extract bottleneck features\n",
    "    bottleneck_feature = extract_Xception(path_to_tensor(img_path))\n",
    "    # obtain predicted vector\n",
    "    predicted_vector = breed_model.predict(bottleneck_feature)\n",
    "    \n",
    "    # return dog breed that is predicted by the model\n",
    "    return dog_names[np.argmax(predicted_vector)]"
   ]
  },
  {
   "cell_type": "markdown",
   "metadata": {},
   "source": [
    "---\n",
    "<a id='step6'></a>\n",
    "## Step 6: Write your Algorithm\n",
    "\n",
    "Write an algorithm that accepts a file path to an image and first determines whether the image contains a human, dog, or neither.  Then,\n",
    "- if a __dog__ is detected in the image, return the predicted breed.\n",
    "- if a __human__ is detected in the image, return the resembling dog breed.\n",
    "- if __neither__ is detected in the image, provide output that indicates an error.\n",
    "\n",
    "You are welcome to write your own functions for detecting humans and dogs in images, but feel free to use the `face_detector` and `dog_detector` functions developed above.  You are __required__ to use your CNN from Step 5 to predict dog breed.  \n",
    "\n",
    "Some sample output for our algorithm is provided below, but feel free to design your own user experience!\n",
    "\n",
    "![Sample Human Output](images/sample_human_output.png)\n",
    "\n",
    "\n",
    "### (IMPLEMENTATION) Write your Algorithm"
   ]
  },
  {
   "cell_type": "code",
   "execution_count": 34,
   "metadata": {
    "collapsed": true
   },
   "outputs": [],
   "source": [
    "### TODO: Write your algorithm.\n",
    "### Feel free to use as many code cells as needed.\n",
    "\n",
    "def breed_detector(img):\n",
    "    # we put dog_detector before\n",
    "    # since it is more accurate than face_detector\n",
    "    # we also use a threshold of 0.95 in case we encounter new edge cases\n",
    "    if dog_detector(img) > 0.95:\n",
    "        return 'dog', breed_detector(img)\n",
    "    elif human_detector(img) > 0.95:\n",
    "        return 'human', breed_detector(img)\n",
    "    else:\n",
    "        return None, None"
   ]
  },
  {
   "cell_type": "markdown",
   "metadata": {},
   "source": [
    "---\n",
    "<a id='step7'></a>\n",
    "## Step 7: Test Your Algorithm\n",
    "\n",
    "In this section, you will take your new algorithm for a spin!  What kind of dog does the algorithm think that __you__ look like?  If you have a dog, does it predict your dog's breed accurately?  If you have a cat, does it mistakenly think that your cat is a dog?\n",
    "\n",
    "### (IMPLEMENTATION) Test Your Algorithm on Sample Images!\n",
    "\n",
    "Test your algorithm at least six images on your computer.  Feel free to use any images you like.  Use at least two human and two dog images.  \n",
    "\n",
    "__Question 6:__ Is the output better than you expected :) ?  Or worse :( ?  Provide at least three possible points of improvement for your algorithm.\n",
    "\n",
    "__Answer:__ "
   ]
  },
  {
   "cell_type": "code",
   "execution_count": 33,
   "metadata": {
    "collapsed": true
   },
   "outputs": [],
   "source": [
    "## TODO: Execute your algorithm from Step 6 on\n",
    "## at least 6 images on your computer.\n",
    "## Feel free to use as many code cells as needed."
   ]
  }
 ],
 "metadata": {
  "anaconda-cloud": {},
  "kernelspec": {
   "display_name": "Python 3",
   "language": "python",
   "name": "python3"
  },
  "language_info": {
   "codemirror_mode": {
    "name": "ipython",
    "version": 3
   },
   "file_extension": ".py",
   "mimetype": "text/x-python",
   "name": "python",
   "nbconvert_exporter": "python",
   "pygments_lexer": "ipython3",
   "version": "3.6.2"
  }
 },
 "nbformat": 4,
 "nbformat_minor": 1
}
